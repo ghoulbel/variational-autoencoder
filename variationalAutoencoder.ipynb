{
 "cells": [
  {
   "cell_type": "code",
   "execution_count": 26,
   "metadata": {},
   "outputs": [],
   "source": [
    "#load library\n",
    "from keras.layers import Input, Dense, Lambda\n",
    "from keras.models import Model\n",
    "from keras import backend as K\n",
    "from keras import metrics\n",
    "from keras.datasets import mnist\n",
    "\n",
    "from __future__ import print_function\n",
    "\n",
    "import numpy as np \n",
    "import matplotlib.pyplot as plt\n",
    "from scipy.stats import norm\n",
    "\n",
    "import tensorflow as tf"
   ]
  },
  {
   "cell_type": "code",
   "execution_count": 27,
   "metadata": {},
   "outputs": [],
   "source": [
    "#set global Variables/hyperparameters\n",
    "batchSize = 100\n",
    "orginalDim =28*28\n",
    "latentDim = 2\n",
    "intermediateDim = 256\n",
    "epochs= 50\n",
    "epsilonSTD = 1.0"
   ]
  },
  {
   "cell_type": "code",
   "execution_count": 28,
   "metadata": {},
   "outputs": [],
   "source": [
    "#Sampling function \n",
    "def sampling(args: tuple):\n",
    "    zMean, zLogVar = args\n",
    "    epsilon = K.random_normal(shape=(K.shape(zMean)[0],latentDim),mean=0.,stddev=epsilonSTD)\n",
    "    return zMean+K.exp(zLogVar/2)*epsilon"
   ]
  },
  {
   "cell_type": "code",
   "execution_count": 29,
   "metadata": {},
   "outputs": [
    {
     "name": "stdout",
     "output_type": "stream",
     "text": [
      "Model: \"encoder\"\n",
      "__________________________________________________________________________________________________\n",
      " Layer (type)                   Output Shape         Param #     Connected to                     \n",
      "==================================================================================================\n",
      " input (InputLayer)             [(None, 784)]        0           []                               \n",
      "                                                                                                  \n",
      " encoding (Dense)               (None, 256)          200960      ['input[0][0]']                  \n",
      "                                                                                                  \n",
      " mean (Dense)                   (None, 2)            514         ['encoding[0][0]']               \n",
      "                                                                                                  \n",
      " log-variance (Dense)           (None, 2)            514         ['encoding[0][0]']               \n",
      "                                                                                                  \n",
      " lambda_5 (Lambda)              (None, 2)            0           ['mean[0][0]',                   \n",
      "                                                                  'log-variance[0][0]']           \n",
      "                                                                                                  \n",
      "==================================================================================================\n",
      "Total params: 201,988\n",
      "Trainable params: 201,988\n",
      "Non-trainable params: 0\n",
      "__________________________________________________________________________________________________\n"
     ]
    }
   ],
   "source": [
    "#Creating encoder\n",
    "x = Input(shape=(orginalDim),name=\"input\")\n",
    "h = Dense(intermediateDim,activation=\"relu\", name=\"encoding\")(x)\n",
    "#mean of the latent space\n",
    "zMean= Dense(latentDim,name=\"mean\")(h)\n",
    "#log variance of the latent space\n",
    "zLogVar = Dense(latentDim, name=\"log-variance\")(h)\n",
    "\n",
    "z= Lambda(sampling, output_shape=(latentDim,))((zMean,zLogVar))\n",
    "encoder = Model(x,[zMean,zLogVar,z], name = \"encoder\")\n",
    "encoder.summary()"
   ]
  },
  {
   "cell_type": "code",
   "execution_count": 30,
   "metadata": {},
   "outputs": [
    {
     "name": "stdout",
     "output_type": "stream",
     "text": [
      "Model: \"decoder\"\n",
      "_________________________________________________________________\n",
      " Layer (type)                Output Shape              Param #   \n",
      "=================================================================\n",
      " decoder_input (InputLayer)  [(None, 2)]               0         \n",
      "                                                                 \n",
      " decoder_h (Dense)           (None, 256)               768       \n",
      "                                                                 \n",
      " flat_decoded (Dense)        (None, 784)               201488    \n",
      "                                                                 \n",
      "=================================================================\n",
      "Total params: 202,256\n",
      "Trainable params: 202,256\n",
      "Non-trainable params: 0\n",
      "_________________________________________________________________\n"
     ]
    }
   ],
   "source": [
    "#Decoder\n",
    "inputDecoder = Input(shape=(latentDim,),name=\"decoder_input\")\n",
    "decoderH = Dense(intermediateDim,activation=\"relu\",name=\"decoder_h\")(inputDecoder)\n",
    "xDecoded = Dense(orginalDim,activation=\"sigmoid\",name=\"flat_decoded\")(decoderH)\n",
    "decoder = Model(inputDecoder,xDecoded,name=\"decoder\")\n",
    "decoder.summary()"
   ]
  },
  {
   "cell_type": "code",
   "execution_count": 31,
   "metadata": {},
   "outputs": [
    {
     "name": "stdout",
     "output_type": "stream",
     "text": [
      "Model: \"model_1\"\n",
      "_________________________________________________________________\n",
      " Layer (type)                Output Shape              Param #   \n",
      "=================================================================\n",
      " input (InputLayer)          [(None, 784)]             0         \n",
      "                                                                 \n",
      " encoder (Functional)        [(None, 2),               201988    \n",
      "                              (None, 2),                         \n",
      "                              (None, 2)]                         \n",
      "                                                                 \n",
      " decoder (Functional)        (None, 784)               202256    \n",
      "                                                                 \n",
      "=================================================================\n",
      "Total params: 404,244\n",
      "Trainable params: 404,244\n",
      "Non-trainable params: 0\n",
      "_________________________________________________________________\n"
     ]
    }
   ],
   "source": [
    "#Create Variational Autoencoder\n",
    "outputCombined = decoder(encoder(x)[2])\n",
    "vae = Model(x,outputCombined)\n",
    "vae.summary()"
   ]
  },
  {
   "cell_type": "code",
   "execution_count": 34,
   "metadata": {},
   "outputs": [
    {
     "name": "stdout",
     "output_type": "stream",
     "text": [
      "Model: \"model_1\"\n",
      "_________________________________________________________________\n",
      " Layer (type)                Output Shape              Param #   \n",
      "=================================================================\n",
      " input (InputLayer)          [(None, 784)]             0         \n",
      "                                                                 \n",
      " encoder (Functional)        [(None, 2),               201988    \n",
      "                              (None, 2),                         \n",
      "                              (None, 2)]                         \n",
      "                                                                 \n",
      " decoder (Functional)        (None, 784)               202256    \n",
      "                                                                 \n",
      "=================================================================\n",
      "Total params: 404,244\n",
      "Trainable params: 404,244\n",
      "Non-trainable params: 0\n",
      "_________________________________________________________________\n"
     ]
    }
   ],
   "source": [
    "#loss function\n",
    "def vaeLoss(x: tf.Tensor, xDecodedMean: tf.Tensor,zLogVar = zLogVar,zMean=zMean,orginalDim=orginalDim):\n",
    "    xentLoss = orginalDim*metrics.binary_crossentropy(x,xDecodedMean)\n",
    "    klLoss = -0.5*K.sum(1+zLogVar-K.square(zMean)-K.exp(zLogVar),axis=-1)\n",
    "    vaeLoss = K.mean(xentLoss+klLoss)\n",
    "    return vaeLoss\n",
    "\n",
    "vae.compile(optimizer=\"rmsprop\",loss =vaeLoss)\n",
    "vae.summary()\n"
   ]
  },
  {
   "cell_type": "code",
   "execution_count": null,
   "metadata": {},
   "outputs": [],
   "source": []
  },
  {
   "cell_type": "code",
   "execution_count": null,
   "metadata": {},
   "outputs": [],
   "source": []
  }
 ],
 "metadata": {
  "interpreter": {
   "hash": "7d2ab6f70f2bd4b60890c4bd2747c46f09c830e6159aae5f9d4d8c82c8e0fa58"
  },
  "kernelspec": {
   "display_name": "Python 3.8.10 64-bit (windows store)",
   "language": "python",
   "name": "python3"
  },
  "language_info": {
   "codemirror_mode": {
    "name": "ipython",
    "version": 3
   },
   "file_extension": ".py",
   "mimetype": "text/x-python",
   "name": "python",
   "nbconvert_exporter": "python",
   "pygments_lexer": "ipython3",
   "version": "3.8.10"
  },
  "orig_nbformat": 4
 },
 "nbformat": 4,
 "nbformat_minor": 2
}
