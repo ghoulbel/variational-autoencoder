{
 "cells": [
  {
   "cell_type": "code",
   "execution_count": 16,
   "metadata": {},
   "outputs": [],
   "source": [
    "#load library\n",
    "from keras.layers import Input, Dense, Lambda\n",
    "from keras.models import Model\n",
    "from keras import backend as K\n",
    "from keras import metrics\n",
    "from keras.datasets import mnist\n",
    "import numpy as np"
   ]
  },
  {
   "cell_type": "code",
   "execution_count": 17,
   "metadata": {},
   "outputs": [],
   "source": [
    "#set global Variables/hyperparameters\n",
    "batchSize = 100\n",
    "orginalDim =28*28\n",
    "latentDim = 2\n",
    "intermediateDim = 256\n",
    "epochs = 50\n",
    "epsilonSTD = 1.0"
   ]
  },
  {
   "cell_type": "code",
   "execution_count": 18,
   "metadata": {},
   "outputs": [],
   "source": [
    "#Sampling function \n",
    "def sampling(args: tuple):\n",
    "    zMean, zLogVar = args\n",
    "    epsilon = K.random_normal(shape=(K.shape(zMean)[0],latentDim),mean=0.,stddev=epsilonSTD)\n",
    "    return zMean+K.exp(zLogVar/2)*epsilon"
   ]
  },
  {
   "cell_type": "code",
   "execution_count": 19,
   "metadata": {},
   "outputs": [
    {
     "name": "stdout",
     "output_type": "stream",
     "text": [
      "Model: \"encoder\"\n",
      "__________________________________________________________________________________________________\n",
      " Layer (type)                   Output Shape         Param #     Connected to                     \n",
      "==================================================================================================\n",
      " input (InputLayer)             [(None, 784)]        0           []                               \n",
      "                                                                                                  \n",
      " encoding (Dense)               (None, 256)          200960      ['input[0][0]']                  \n",
      "                                                                                                  \n",
      " mean (Dense)                   (None, 2)            514         ['encoding[0][0]']               \n",
      "                                                                                                  \n",
      " log-variance (Dense)           (None, 2)            514         ['encoding[0][0]']               \n",
      "                                                                                                  \n",
      " lambda_3 (Lambda)              (None, 2)            0           ['mean[0][0]',                   \n",
      "                                                                  'log-variance[0][0]']           \n",
      "                                                                                                  \n",
      "==================================================================================================\n",
      "Total params: 201,988\n",
      "Trainable params: 201,988\n",
      "Non-trainable params: 0\n",
      "__________________________________________________________________________________________________\n"
     ]
    }
   ],
   "source": [
    "#Creating encoder\n",
    "x = Input(shape=(orginalDim),name=\"input\")\n",
    "h = Dense(intermediateDim,activation=\"relu\", name=\"encoding\")(x)\n",
    "#mean of the latent space\n",
    "zMean= Dense(latentDim,name=\"mean\")(h)\n",
    "#log variance of the latent space\n",
    "zLogVar = Dense(latentDim, name=\"log-variance\")(h)\n",
    "\n",
    "z= Lambda(sampling, output_shape=(latentDim,))((zMean,zLogVar))\n",
    "encoder = Model(x,[zMean,zLogVar,z], name = \"encoder\")\n",
    "encoder.summary()"
   ]
  }
 ],
 "metadata": {
  "interpreter": {
   "hash": "7d2ab6f70f2bd4b60890c4bd2747c46f09c830e6159aae5f9d4d8c82c8e0fa58"
  },
  "kernelspec": {
   "display_name": "Python 3.8.10 64-bit (windows store)",
   "language": "python",
   "name": "python3"
  },
  "language_info": {
   "codemirror_mode": {
    "name": "ipython",
    "version": 3
   },
   "file_extension": ".py",
   "mimetype": "text/x-python",
   "name": "python",
   "nbconvert_exporter": "python",
   "pygments_lexer": "ipython3",
   "version": "3.8.10"
  },
  "orig_nbformat": 4
 },
 "nbformat": 4,
 "nbformat_minor": 2
}
